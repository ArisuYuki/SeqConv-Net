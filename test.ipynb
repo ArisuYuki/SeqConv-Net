{
 "cells": [
  {
   "cell_type": "code",
   "execution_count": 1,
   "metadata": {},
   "outputs": [],
   "source": [
    "from dataLoader import PointCloudLoader\n",
    "import torch\n",
    "from net import RadarNet\n",
    "from trainer import train"
   ]
  },
  {
   "cell_type": "code",
   "execution_count": 2,
   "metadata": {},
   "outputs": [],
   "source": [
    "# 总类别数\n",
    "num_classes = 20\n",
    "# 学习率\n",
    "lr = 1e-4\n",
    "# 训练轮数\n",
    "epoch = 50\n",
    "# 每个点云数据从中取num_len个区域\n",
    "num_len = 1\n",
    "# 每个区域的大小\n",
    "area_size = (16 * 10, 16 * 10)\n",
    "# 最高高程长度num_z个\n",
    "num_z = 100\n",
    "# 平面和高程分辨\n",
    "xy_resolution = 0.5\n",
    "z_resolution = 0.5\n",
    "# 编码长度\n",
    "embed_size = 32\n",
    "# 隐变量长度\n",
    "num_hiddens = 32\n",
    "# 循环神经网络层数\n",
    "num_layers = 2\n",
    "# 读取数据线程数量\n",
    "num_workers = 1\n",
    "# 训练阶段每一次输入的序列数量(分块计算会减少显存使用，但是会减速，仅在训练阶段有意义)\n",
    "num_seq = 16 * 16 * 2 * 2\n",
    "# num_seq = None\n",
    "\n",
    "train_dir = \"./data_chunk/train\"\n",
    "test_dir = \"./data_chunk/test\"\n",
    "device = \"cuda\""
   ]
  },
  {
   "cell_type": "code",
   "execution_count": 3,
   "metadata": {},
   "outputs": [],
   "source": [
    "# 训练集要打乱，每一块生成num_len个随机区域，一共是总文件数*num_len个\n",
    "train_dataloader = PointCloudLoader(\n",
    "    root_path=train_dir,\n",
    "    num_classes=num_classes,\n",
    "    num_len=num_len,\n",
    "    area_size=area_size,\n",
    "    num_z=num_z,\n",
    "    xy_resolution=xy_resolution,\n",
    "    z_resolution=z_resolution,\n",
    "    random=True,\n",
    ")\n",
    "# 测试集不打乱，按顺序来一块一块分类\n",
    "test_dataloader = PointCloudLoader(\n",
    "    root_path=test_dir,\n",
    "    num_classes=num_classes,\n",
    "    num_len=num_len,\n",
    "    area_size=area_size,\n",
    "    num_z=num_z,\n",
    "    xy_resolution=xy_resolution,\n",
    "    z_resolution=z_resolution,\n",
    "    random=False,\n",
    ")\n",
    "test_loader = torch.utils.data.DataLoader(\n",
    "    test_dataloader, batch_size=1, num_workers=num_workers\n",
    ")\n",
    "train_loader = torch.utils.data.DataLoader(train_dataloader, batch_size=1)\n",
    "\n",
    "net = RadarNet(\n",
    "    num_classes=num_classes,\n",
    "    elevation_resolution=num_z,\n",
    "    embed_size=embed_size,\n",
    "    num_hiddens=num_hiddens,\n",
    "    num_layers=num_layers,\n",
    "    num_seq=num_seq,\n",
    "    features=[64, 128, 256, 512, 1024],\n",
    "    dropout=0.2,\n",
    ")\n",
    "\n",
    "weight = torch.load(\"best_model_train.pth\")\n",
    "net.load_state_dict(weight, strict=False)\n",
    "# weight = torch.load(\"best_model_32.pth\")\n",
    "# net.load_state_dict(weight, strict=False)\n",
    "\n",
    "optimizer = torch.optim.Adam(net.parameters(), lr=lr, weight_decay=1e-5)"
   ]
  },
  {
   "cell_type": "code",
   "execution_count": 4,
   "metadata": {},
   "outputs": [],
   "source": [
    "# from utils import eval_net_point\n",
    "# eval_net_point(net, test_loader, device)"
   ]
  },
  {
   "cell_type": "code",
   "execution_count": 5,
   "metadata": {},
   "outputs": [],
   "source": [
    "from utils import pred_file\n",
    "\n",
    "result, header = pred_file(\n",
    "    net,\n",
    "    \"data/train/data/WMSC_points - Cloud.las\",\n",
    "    area_size,\n",
    "    num_z,\n",
    "    xy_resolution,\n",
    "    z_resolution,\n",
    "    resolution=1000,\n",
    "    device=device,\n",
    "    only_pred=True,\n",
    ")"
   ]
  },
  {
   "cell_type": "code",
   "execution_count": 6,
   "metadata": {},
   "outputs": [],
   "source": [
    "from utils import save_result\n",
    "save_result(\n",
    "    \"result.las\",\n",
    "    header,\n",
    "    torch.tensor(result),\n",
    ")"
   ]
  }
 ],
 "metadata": {
  "kernelspec": {
   "display_name": "torch22",
   "language": "python",
   "name": "python3"
  },
  "language_info": {
   "codemirror_mode": {
    "name": "ipython",
    "version": 3
   },
   "file_extension": ".py",
   "mimetype": "text/x-python",
   "name": "python",
   "nbconvert_exporter": "python",
   "pygments_lexer": "ipython3",
   "version": "3.11.10"
  }
 },
 "nbformat": 4,
 "nbformat_minor": 2
}
