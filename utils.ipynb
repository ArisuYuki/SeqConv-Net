{
 "cells": [
  {
   "cell_type": "code",
   "execution_count": 3,
   "metadata": {},
   "outputs": [],
   "source": [
    "import torch\n",
    "from dataLoader import PointCloudLoader\n",
    "# 总类别数\n",
    "num_classes = 14\n",
    "# 训练轮数\n",
    "epoch = 100\n",
    "# 每个点云数据从中取num_len个区域\n",
    "num_len = 1\n",
    "# 每个区域的大小(128*128)，相当于实际距离64米*64米的地块\n",
    "area_size = (128, 128)\n",
    "# 最高高程长度num_z个，则网络area_size范围内最大高程输入是z_resolution*num_z，超出这个高程被截断\n",
    "num_z = 300\n",
    "# 平面和高程分辨率\n",
    "xy_resolution = 0.5\n",
    "z_resolution = 0.5\n",
    "\n",
    "train_dir = \"./powerline/train\"\n",
    "test_dir = \"./powerline/test\"\n",
    "device = \"cuda\"\n",
    "# 训练集要打乱，每一块生成num_len个随机区域，一共是总文件数*num_len个\n",
    "train_dataloader = PointCloudLoader(\n",
    "    root_path=train_dir,\n",
    "    num_classes=num_classes,\n",
    "    num_len=num_len,\n",
    "    area_size=area_size,\n",
    "    num_z=num_z,\n",
    "    xy_resolution=xy_resolution,\n",
    "    z_resolution=z_resolution,\n",
    "    random=True,\n",
    ")\n",
    "# 测试集不打乱，按顺序来一块一块分类\n",
    "test_dataloader = PointCloudLoader(\n",
    "    root_path=test_dir,\n",
    "    num_classes=num_classes,\n",
    "    num_len=num_len,\n",
    "    area_size=area_size,\n",
    "    num_z=num_z,\n",
    "    xy_resolution=xy_resolution,\n",
    "    z_resolution=z_resolution,\n",
    "    random=True,\n",
    ")\n",
    "test_loader = torch.utils.data.DataLoader(test_dataloader, batch_size=1)\n",
    "train_loader = torch.utils.data.DataLoader(train_dataloader, batch_size=1)"
   ]
  },
  {
   "cell_type": "code",
   "execution_count": null,
   "metadata": {},
   "outputs": [],
   "source": [
    "from utils import generate_map,reindex_label\n",
    "mapping = generate_map(train_dataloader)"
   ]
  },
  {
   "cell_type": "code",
   "execution_count": null,
   "metadata": {},
   "outputs": [],
   "source": [
    "reindex_label(train_dataloader, mapping)"
   ]
  },
  {
   "cell_type": "code",
   "execution_count": null,
   "metadata": {},
   "outputs": [
    {
     "name": "stderr",
     "output_type": "stream",
     "text": [
      "Chunking:   0%|          | 0/1 [00:00<?, ?it/s]"
     ]
    },
    {
     "name": "stderr",
     "output_type": "stream",
     "text": [
      "                                                                   \r"
     ]
    }
   ],
   "source": [
    "from utils import preprocess\n",
    "preprocess(train_dataloader,resolution=100 ,need_label=True)\n",
    "preprocess(test_dataloader, resolution=100, need_label=False,half=False)"
   ]
  }
 ],
 "metadata": {
  "kernelspec": {
   "display_name": "torch22",
   "language": "python",
   "name": "python3"
  },
  "language_info": {
   "codemirror_mode": {
    "name": "ipython",
    "version": 3
   },
   "file_extension": ".py",
   "mimetype": "text/x-python",
   "name": "python",
   "nbconvert_exporter": "python",
   "pygments_lexer": "ipython3",
   "version": "3.11.10"
  }
 },
 "nbformat": 4,
 "nbformat_minor": 2
}
